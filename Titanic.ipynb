{
 "cells": [
  {
   "cell_type": "code",
   "execution_count": 135,
   "metadata": {},
   "outputs": [],
   "source": [
    "import numpy as np\n",
    "import pandas as pd\n",
    "import math\n",
    "import random\n",
    "import matplotlib.pyplot as plt\n",
    "learning_rate = 0.015\n",
    "epoch = 20000"
   ]
  },
  {
   "cell_type": "code",
   "execution_count": 136,
   "metadata": {},
   "outputs": [],
   "source": [
    "def sigmoid(z):\n",
    "    return (1.0 / (1.0 + np.exp(-1.0*z)))"
   ]
  },
  {
   "cell_type": "code",
   "execution_count": 137,
   "metadata": {},
   "outputs": [],
   "source": [
    "def Costfunc(Y,h):\n",
    "    m = len(Y)\n",
    "    J = 0.0\n",
    "    J = (-1.0/(2*m))*(np.matmul(np.transpose(Y),np.log(h)) + np.matmul(np.transpose(np.ones((714,1)) - Y),np.log(np.ones((714,1)) - h)))\n",
    "    return J[0][0]"
   ]
  },
  {
   "cell_type": "code",
   "execution_count": 138,
   "metadata": {},
   "outputs": [],
   "source": [
    "def GradientDescent(X,Y,Theta):\n",
    "    m = len(X)\n",
    "    x1,cost1 = [],[]\n",
    "    for i in range(epoch):\n",
    "        z = np.matmul(X,Theta)\n",
    "        h = sigmoid(z)\n",
    "        loss = h - Y\n",
    "        gradient = np.matmul(np.transpose(X),loss)/(2*m)\n",
    "        Theta = Theta - (learning_rate*gradient)\n",
    "        cost = Costfunc(Y,h)\n",
    "        x1.append(i)\n",
    "        cost1.append(cost)\n",
    "    return Theta,x1,cost1"
   ]
  },
  {
   "cell_type": "code",
   "execution_count": 139,
   "metadata": {},
   "outputs": [
    {
     "data": {
      "image/png": "[encoded data removed]",
      "text/plain": [
       "<matplotlib.figure.Figure at 0x7f2525d0c9e8>"
      ]
     },
     "metadata": {},
     "output_type": "display_data"
    },
    {
     "data": {
      "image/png": "[encoded data removed]",
      "text/plain": [
       "<matplotlib.figure.Figure at 0x7f2525936e80>"
      ]
     },
     "metadata": {},
     "output_type": "display_data"
    },
    {
     "name": "stdout",
     "output_type": "stream",
     "text": [
      "Accuracy is: \n",
      "76.89075630252101\n"
     ]
    }
   ],
   "source": [
    "Z = pd.read_csv('./train.csv',header = None , usecols = [1,2,4,5,6,7])\n",
    "Z = Z.drop(0, 0)\n",
    "Z.dropna(inplace = True)\n",
    "X = np.array(Z.drop(1,1))\n",
    "Y = np.array(Z[1])\n",
    "for i,val in enumerate(X):\n",
    "    Y[i] = float(Y[i])\n",
    "    if(val[1] == 'male'):\n",
    "        val[1] = 1\n",
    "    else:\n",
    "        val[1] = 0\n",
    "    for k in range(len(val)):\n",
    "        val[k] = float(val[k])\n",
    "for i in range(len(X)):\n",
    "    if(Y[i] == 0):\n",
    "        plt.scatter(X[i][2],X[i][1],marker = 'x' , color = 'b')\n",
    "    else:\n",
    "        plt.scatter(X[i][2],X[i][1],marker = 'o' ,color = 'r')\n",
    "plt.xlabel('Sex')\n",
    "plt.ylabel('Age')\n",
    "plt.show()\n",
    "plt.clf()\n",
    "X = X.astype(float)\n",
    "Y = Y.astype(float)\n",
    "X = np.reshape(X,(714,5))\n",
    "Y = np.reshape(Y,(714,1))\n",
    "Theta = np.zeros((5,1))\n",
    "cost1 = np.asarray(cost1)\n",
    "Theta,x1,cost1 = GradientDescent(X,Y,Theta)\n",
    "#for i in range(len(x1)):\n",
    "    #print(\"i is : {} cst is : {}\".format(x1[i],cost1[i]))\n",
    "    #plt.scatter(x1[i],cost1[i],marker = 'x')\n",
    "plt.plot(x1,cost1,'-')\n",
    "plt.show()\n",
    "pred = []\n",
    "for i in range(len(X)):\n",
    "    a = sigmoid(np.matmul(X[i],Theta))\n",
    "    if(a >= 0.5):\n",
    "        a = 1.0\n",
    "        pred.append(a)\n",
    "    else:\n",
    "        a = 0.0\n",
    "        pred.append(a)\n",
    "count = 0\n",
    "for i in range(len(Y)):\n",
    "    if(Y[i]==pred[i]):\n",
    "        count = count+1\n",
    "print(\"Accuracy is: \")\n",
    "print(count*100/len(X))"
   ]
  },
  {
   "cell_type": "code",
   "execution_count": null,
   "metadata": {},
   "outputs": [],
   "source": []
  }
 ],
 "metadata": {
  "kernelspec": {
   "display_name": "Python 3",
   "language": "python",
   "name": "python3"
  },
  "language_info": {
   "codemirror_mode": {
    "name": "ipython",
    "version": 3
   },
   "file_extension": ".py",
   "mimetype": "text/x-python",
   "name": "python",
   "nbconvert_exporter": "python",
   "pygments_lexer": "ipython3",
   "version": "3.6.3"
  }
 },
 "nbformat": 4,
 "nbformat_minor": 2
}
