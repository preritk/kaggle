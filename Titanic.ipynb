{
 "cells": [
  {
   "cell_type": "code",
   "execution_count": 1,
   "metadata": {},
   "outputs": [],
   "source": [
    "import numpy as np\n",
    "import pandas as pd\n",
    "import math\n",
    "import random\n",
    "import matplotlib.pyplot as plt\n",
    "import csv\n",
    "learning_rate = 0.001\n",
    "epoch = 200000\n",
    "lamda = 1"
   ]
  },
  {
   "cell_type": "code",
   "execution_count": 2,
   "metadata": {},
   "outputs": [],
   "source": [
    "def sigmoid(z):\n",
    "    return (1.0 / (1.0 + np.exp(-1.0*z)))"
   ]
  },
  {
   "cell_type": "code",
   "execution_count": 3,
   "metadata": {},
   "outputs": [],
   "source": [
    "def Costfunc(Y,h,Theta):\n",
    "    m = len(Y)\n",
    "    Theta_1 = Theta[1:]\n",
    "    J = 0.0\n",
    "    J = (-1.0/(2*m))*(np.matmul(np.transpose(Y),np.log(h)) + np.matmul(np.transpose(np.ones((891,1)) - Y),np.log(np.ones((891,1)) - h))) + (lamda/(2*m))*(np.matmul(np.transpose(Theta_1),Theta_1))                                                            \n",
    "    return J[0][0]"
   ]
  },
  {
   "cell_type": "code",
   "execution_count": 4,
   "metadata": {},
   "outputs": [],
   "source": [
    "def GradientDescent(X,Y,Theta):\n",
    "    m = len(X)\n",
    "    x1,cost1 = [],[]\n",
    "    for i in range(epoch):\n",
    "        z = np.matmul(X,Theta)\n",
    "        h = sigmoid(z)\n",
    "        loss = h - Y\n",
    "        gradient = np.matmul(np.transpose(X),loss)/(2*m)\n",
    "        Theta = Theta - (learning_rate*gradient)\n",
    "        cost = Costfunc(Y,h,Theta)\n",
    "        x1.append(i)\n",
    "        cost1.append(cost)\n",
    "    return Theta,x1,cost1"
   ]
  },
  {
   "cell_type": "code",
   "execution_count": 5,
   "metadata": {},
   "outputs": [
    {
     "data": {
      "image/png": "[encoded data removed]",
      "text/plain": [
       "<matplotlib.figure.Figure at 0x7ff2f956c5f8>"
      ]
     },
     "metadata": {},
     "output_type": "display_data"
    },
    {
     "data": {
      "image/png": "[encoded data removed]",
      "text/plain": [
       "<matplotlib.figure.Figure at 0x7ff2f9510da0>"
      ]
     },
     "metadata": {},
     "output_type": "display_data"
    },
    {
     "name": "stdout",
     "output_type": "stream",
     "text": [
      "Accuracy is: \n",
      "79.01234567901234\n",
      "Writing complete\n"
     ]
    }
   ],
   "source": [
    "Z = pd.read_csv('./train.csv',header = None , usecols = [1,2,4,5,6,7])\n",
    "Z = Z.drop(0, 0)\n",
    "for i, array in enumerate(Z[5]):\n",
    "    try:\n",
    "        int(array)\n",
    "    except:\n",
    "        Z[5][i+1] = 29.7\n",
    "X = np.array(Z.drop(1,1))\n",
    "Y = np.array(Z[1])\n",
    "for i,val in enumerate(X):\n",
    "    Y[i] = float(Y[i])\n",
    "    if(val[1] == 'male'):\n",
    "        val[1] = 1\n",
    "    else:\n",
    "        val[1] = 0\n",
    "    for k in range(len(val)):\n",
    "        val[k] = float(val[k])\n",
    "for i in range(len(X)):\n",
    "    if(Y[i] == 0):\n",
    "        plt.scatter(X[i][2],X[i][1],marker = 'x' , color = 'b')\n",
    "    else:\n",
    "        plt.scatter(X[i][2],X[i][1],marker = 'o' ,color = 'r')\n",
    "plt.xlabel('Sex')\n",
    "plt.ylabel('Age')\n",
    "plt.show()\n",
    "plt.clf()\n",
    "X = X.astype(float)\n",
    "Y = Y.astype(float)\n",
    "X = np.reshape(X,(891,5))\n",
    "Y = np.reshape(Y,(891,1))\n",
    "Theta =np.zeros((5,1))\n",
    "#cost1 = np.asarray(cost1)\n",
    "Theta,x1,cost1 = GradientDescent(X,Y,Theta)\n",
    "#for i in range(len(x1)):\n",
    "    #print(\"i is : {} cst is : {}\".format(x1[i],cost1[i]))\n",
    "    #plt.scatter(x1[i],cost1[i],marker = 'x')\n",
    "plt.plot(x1,cost1,'-')\n",
    "plt.show()\n",
    "pred = []\n",
    "for i in range(len(X)):\n",
    "    a = sigmoid(np.matmul(X[i],Theta))\n",
    "    if(a >= 0.5):\n",
    "        a = 1.0\n",
    "        pred.append(a)\n",
    "    else:\n",
    "        a = 0.0\n",
    "        pred.append(a)\n",
    "count = 0\n",
    "for i in range(len(Y)):\n",
    "    if(Y[i]==pred[i]):\n",
    "        count = count+1\n",
    "print(\"Accuracy is: \")\n",
    "print(count*100/len(X))\n",
    "Theta\n",
    "\n",
    "\n",
    "DF = pd.read_csv('./test.csv',header = None , usecols = [1,3,4,5,6])\n",
    "DF = DF.drop(0, 0)\n",
    "for i, array in enumerate(DF[4]):\n",
    "    try:\n",
    "        int(array)\n",
    "    except:\n",
    "        DF[4][i+1] = 29.7\n",
    "X_test = np.array(DF)\n",
    "for i,val in enumerate(X_test):\n",
    "    if(val[1] == 'male'):\n",
    "        val[1] = 1\n",
    "    else:\n",
    "        val[1] = 0\n",
    "    for k in range(len(val)):\n",
    "        val[k] = float(val[k])\n",
    "        \n",
    "X_test = X_test.astype(float)\n",
    "\n",
    "X_test = np.reshape(X_test,(418,5))\n",
    "\n",
    "pred_test = []\n",
    "for i in range(len(X_test)):\n",
    "    a = sigmoid(np.matmul(X_test[i],Theta))\n",
    "    if(a>=0.5):\n",
    "        a = 1.0\n",
    "        pred_test.append(a)\n",
    "    else:\n",
    "        a = 0.0\n",
    "        pred_test.append(a)\n",
    "myData = [[\"PassengerId\", \"Survived\"]]\n",
    "for i in range(len(DF)):\n",
    "    arr = [i+892, int(pred_test[i])]\n",
    "    myData.append(arr)\n",
    "myFile = open('example2.csv', 'w+')\n",
    "with myFile:\n",
    "    writer = csv.writer(myFile)\n",
    "    writer.writerows(myData)\n",
    "     \n",
    "print(\"Writing complete\")"
   ]
  },
  {
   "cell_type": "code",
   "execution_count": null,
   "metadata": {},
   "outputs": [],
   "source": []
  }
 ],
 "metadata": {
  "kernelspec": {
   "display_name": "Python 3",
   "language": "python",
   "name": "python3"
  },
  "language_info": {
   "codemirror_mode": {
    "name": "ipython",
    "version": 3
   },
   "file_extension": ".py",
   "mimetype": "text/x-python",
   "name": "python",
   "nbconvert_exporter": "python",
   "pygments_lexer": "ipython3",
   "version": "3.6.3"
  }
 },
 "nbformat": 4,
 "nbformat_minor": 2
}
