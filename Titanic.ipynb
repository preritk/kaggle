{
 "cells": [
  {
   "cell_type": "code",
   "execution_count": 101,
   "metadata": {},
   "outputs": [],
   "source": [
    "import numpy as np\n",
    "import pandas as pd\n",
    "import math\n",
    "import random\n",
    "import matplotlib.pyplot as plt\n",
    "learning_rate = 0.015\n",
    "epoch = 10000"
   ]
  },
  {
   "cell_type": "code",
   "execution_count": 102,
   "metadata": {},
   "outputs": [],
   "source": [
    "def sigmoid(z):\n",
    "    return (1.0 / (1.0 + np.exp(-1.0*z)))"
   ]
  },
  {
   "cell_type": "code",
   "execution_count": 103,
   "metadata": {},
   "outputs": [],
   "source": [
    "def Costfunc(Y,h):\n",
    "    m = len(Y)\n",
    "    J = 0.0\n",
    "    J = (-1.0/(2*m))*(np.matmul(np.transpose(Y),np.log(h)) + np.matmul(np.transpose(np.ones((714,1)) - Y),np.log(np.ones((714,1)) - h)))\n",
    "    return J[0][0]"
   ]
  },
  {
   "cell_type": "code",
   "execution_count": 104,
   "metadata": {},
   "outputs": [],
   "source": [
    "def GradientDescent(X,Y,Theta):\n",
    "    m = len(X)\n",
    "    x1,cost1 = [],[]\n",
    "    for i in range(epoch):\n",
    "        z = np.matmul(X,Theta)\n",
    "        h = sigmoid(z)\n",
    "        loss = h - Y\n",
    "        gradient = np.matmul(np.transpose(X),loss)/(2*m)\n",
    "        Theta = Theta - (learning_rate*gradient)\n",
    "        cost = Costfunc(Y,h)\n",
    "        x1.append(i)\n",
    "        cost1.append(cost)\n",
    "    return Theta,x1,cost1"
   ]
  },
  {
   "cell_type": "code",
   "execution_count": 109,
   "metadata": {},
   "outputs": [
    {
     "data": {
      "image/png": "[encoded data removed]",
      "text/plain": [
       "<matplotlib.figure.Figure at 0x7f2525458470>"
      ]
     },
     "metadata": {},
     "output_type": "display_data"
    },
    {
     "data": {
      "image/png": "[encoded data removed]",
      "text/plain": [
       "<matplotlib.figure.Figure at 0x7f252599ae48>"
      ]
     },
     "metadata": {},
     "output_type": "display_data"
    },
    {
     "name": "stdout",
     "output_type": "stream",
     "text": [
      "[[-0.09341353]\n",
      " [-1.89567198]\n",
      " [ 0.0229226 ]\n",
      " [ 0.01197351]\n",
      " [ 0.16825232]]\n",
      "[ 0.20203534]\n"
     ]
    }
   ],
   "source": [
    "Z = pd.read_csv('./train.csv',header = None , usecols = [1,2,4,5,6,7])\n",
    "Z = Z.drop(0, 0)\n",
    "Z.dropna(inplace = True)\n",
    "X = np.array(Z.drop(1,1))\n",
    "Y = np.array(Z[1])\n",
    "for i,val in enumerate(X):\n",
    "    Y[i] = float(Y[i])\n",
    "    if(val[1] == 'male'):\n",
    "        val[1] = 1\n",
    "    else:\n",
    "        val[1] = 0\n",
    "    for k in range(len(val)):\n",
    "        val[k] = float(val[k])\n",
    "for i in range(len(X)):\n",
    "    if(Y[i] == 0):\n",
    "        plt.scatter(X[i][2],X[i][1],marker = 'x' , color = 'b')\n",
    "    else:\n",
    "        plt.scatter(X[i][2],X[i][1],marker = 'o' ,color = 'r')\n",
    "plt.xlabel('Sex')\n",
    "plt.ylabel('Age')\n",
    "plt.show()\n",
    "plt.clf()\n",
    "X = X.astype(float)\n",
    "Y = Y.astype(float)\n",
    "X = np.reshape(X,(714,5))\n",
    "Y = np.reshape(Y,(714,1))\n",
    "Theta = np.zeros((5,1))\n",
    "cost1 = np.asarray(cost1)\n",
    "Theta,x1,cost1 = GradientDescent(X,Y,Theta)\n",
    "#for i in range(len(x1)):\n",
    "    #print(\"i is : {} cst is : {}\".format(x1[i],cost1[i]))\n",
    "    #plt.scatter(x1[i],cost1[i],marker = 'x')\n",
    "plt.plot(x1,cost1,'-')\n",
    "plt.show()\n",
    "print(Theta)"
   ]
  },
  {
   "cell_type": "code",
   "execution_count": null,
   "metadata": {},
   "outputs": [],
   "source": []
  }
 ],
 "metadata": {
  "kernelspec": {
   "display_name": "Python 3",
   "language": "python",
   "name": "python3"
  },
  "language_info": {
   "codemirror_mode": {
    "name": "ipython",
    "version": 3
   },
   "file_extension": ".py",
   "mimetype": "text/x-python",
   "name": "python",
   "nbconvert_exporter": "python",
   "pygments_lexer": "ipython3",
   "version": "3.6.3"
  }
 },
 "nbformat": 4,
 "nbformat_minor": 2
}
